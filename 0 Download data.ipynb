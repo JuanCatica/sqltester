{
 "cells": [
  {
   "cell_type": "markdown",
   "id": "6ce77e35",
   "metadata": {},
   "source": [
    "# Download Data"
   ]
  },
  {
   "cell_type": "code",
   "execution_count": null,
   "id": "df097919",
   "metadata": {},
   "outputs": [],
   "source": [
    "# ----------------------\n",
    "# DATASET\n",
    "# http://files.grouplens.org/datasets/movielens/\n",
    "dataset = \"ml-25m.zip\"\n",
    "extracted_data = \"ml-25m\"\n",
    "data_dir = \"app-data\"\n",
    "!rm -rf data_dir\n",
    "!mkdir -p $data_dir\n",
    "!curl \"http://files.grouplens.org/datasets/movielens/\"$dataset > $dataset\n",
    "!unzip -o $dataset\n",
    "!rm $dataset\n",
    "!mv ./$extracted_data/* ./$data_dir/\n",
    "!rm -r ./$extracted_data\n",
    "! pip install awswrangler"
   ]
  }
 ],
 "metadata": {
  "kernelspec": {
   "display_name": "Python 3 (ipykernel)",
   "language": "python",
   "name": "python3"
  },
  "language_info": {
   "codemirror_mode": {
    "name": "ipython",
    "version": 3
   },
   "file_extension": ".py",
   "mimetype": "text/x-python",
   "name": "python",
   "nbconvert_exporter": "python",
   "pygments_lexer": "ipython3",
   "version": "3.11.7"
  },
  "vscode": {
   "interpreter": {
    "hash": "925bb507c97935ef11b02d4f3314b202c7e2d9e75b29c9701bbf4804424dad2a"
   }
  }
 },
 "nbformat": 4,
 "nbformat_minor": 5
}
