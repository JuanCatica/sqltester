{
 "cells": [
  {
   "cell_type": "markdown",
   "id": "6ce77e35",
   "metadata": {},
   "source": [
    "# 1. Loading Tags to RDS"
   ]
  },
  {
   "cell_type": "markdown",
   "id": "8d2c57ac",
   "metadata": {},
   "source": [
    "#### Uncomment the following cell to download the data"
   ]
  },
  {
   "cell_type": "raw",
   "id": "df097919",
   "metadata": {
    "vscode": {
     "languageId": "raw"
    }
   },
   "source": [
    "# ----------------------\n",
    "# DRIVER FOR Oracle 19\n",
    "# https://www.oracle.com/database/technologies/instant-client/linux-x86-64-downloads.html\n",
    "!rm -rf driver  && \\\n",
    "    mkdir -p driver  && \\\n",
    "    cd driver && \\\n",
    "    curl https://download.oracle.com/otn_software/linux/instantclient/1922000/oracle-instantclient19.22-basic-19.22.0.0.0-1.x86_64.rpm > oracle-instantclient19.22-basic-19.22.0.0.0-1.x86_64.rpm && \\\n",
    "    sudo yum install oracle-instantclient19.22-basic-19.22.0.0.0-1.x86_64.rpm -y\n",
    "\n",
    "# ----------------------\n",
    "# PIP\n",
    "! pip install sqlalchemy cx_Oracle psycopg2-binary "
   ]
  },
  {
   "cell_type": "code",
   "execution_count": 9,
   "id": "c1faa3f2",
   "metadata": {},
   "outputs": [],
   "source": [
    "from sqlalchemy import create_engine, text\n",
    "import sqlalchemy as sqla\n",
    "import pandas as pd\n",
    "import cx_Oracle\n",
    "import boto3\n",
    "import warnings\n",
    "import numpy as np\n",
    "from Loaders import SQLLoader\n",
    "warnings.filterwarnings(\"ignore\")\n",
    "\n",
    "# If requiered\n",
    "import sqlalchemy as sa\n",
    "from sqlalchemy import Float, Double\n",
    "from sqlalchemy.dialects import oracle"
   ]
  },
  {
   "cell_type": "code",
   "execution_count": 10,
   "id": "41898e00",
   "metadata": {},
   "outputs": [],
   "source": [
    "ssm = boto3.client('ssm')\n",
    "dbhost = ssm.get_parameter(Name='/dbtester/dbhost', WithDecryption=True)['Parameter']['Value']\n",
    "dbport = ssm.get_parameter(Name='/dbtester/dbport', WithDecryption=True)['Parameter']['Value']\n",
    "dbuser = ssm.get_parameter(Name='/dbtester/dbuser', WithDecryption=True)['Parameter']['Value']\n",
    "dbpass = ssm.get_parameter(Name='/dbtester/dbpass', WithDecryption=True)['Parameter']['Value']\n",
    "dbname = ssm.get_parameter(Name='/dbtester/dbname', WithDecryption=True)['Parameter']['Value']"
   ]
  },
  {
   "cell_type": "markdown",
   "id": "da24a6b4",
   "metadata": {},
   "source": [
    "# A. Creating Loaders"
   ]
  },
  {
   "cell_type": "code",
   "execution_count": 12,
   "id": "787a04c3",
   "metadata": {
    "scrolled": true
   },
   "outputs": [
    {
     "data": {
      "text/html": [
       "<div>\n",
       "<style scoped>\n",
       "    .dataframe tbody tr th:only-of-type {\n",
       "        vertical-align: middle;\n",
       "    }\n",
       "\n",
       "    .dataframe tbody tr th {\n",
       "        vertical-align: top;\n",
       "    }\n",
       "\n",
       "    .dataframe thead th {\n",
       "        text-align: right;\n",
       "    }\n",
       "</style>\n",
       "<table border=\"1\" class=\"dataframe\">\n",
       "  <thead>\n",
       "    <tr style=\"text-align: right;\">\n",
       "      <th></th>\n",
       "      <th>userId</th>\n",
       "      <th>movieId</th>\n",
       "      <th>tag</th>\n",
       "      <th>timestamp</th>\n",
       "      <th>_insert</th>\n",
       "      <th>_insert_time</th>\n",
       "      <th>_update</th>\n",
       "      <th>_update_time</th>\n",
       "      <th>_delete</th>\n",
       "      <th>_delete_time</th>\n",
       "    </tr>\n",
       "  </thead>\n",
       "  <tbody>\n",
       "    <tr>\n",
       "      <th>0</th>\n",
       "      <td>3</td>\n",
       "      <td>260</td>\n",
       "      <td>classic</td>\n",
       "      <td>1439472355</td>\n",
       "      <td>0</td>\n",
       "      <td>0</td>\n",
       "      <td>0</td>\n",
       "      <td>0</td>\n",
       "      <td>0</td>\n",
       "      <td>0</td>\n",
       "    </tr>\n",
       "    <tr>\n",
       "      <th>1</th>\n",
       "      <td>3</td>\n",
       "      <td>260</td>\n",
       "      <td>sci-fi</td>\n",
       "      <td>1439472256</td>\n",
       "      <td>0</td>\n",
       "      <td>0</td>\n",
       "      <td>0</td>\n",
       "      <td>0</td>\n",
       "      <td>0</td>\n",
       "      <td>0</td>\n",
       "    </tr>\n",
       "    <tr>\n",
       "      <th>2</th>\n",
       "      <td>4</td>\n",
       "      <td>1732</td>\n",
       "      <td>dark comedy</td>\n",
       "      <td>1573943598</td>\n",
       "      <td>0</td>\n",
       "      <td>0</td>\n",
       "      <td>0</td>\n",
       "      <td>0</td>\n",
       "      <td>0</td>\n",
       "      <td>0</td>\n",
       "    </tr>\n",
       "  </tbody>\n",
       "</table>\n",
       "</div>"
      ],
      "text/plain": [
       "   userId  movieId          tag   timestamp  _insert  _insert_time  _update  \\\n",
       "0       3      260      classic  1439472355        0             0        0   \n",
       "1       3      260       sci-fi  1439472256        0             0        0   \n",
       "2       4     1732  dark comedy  1573943598        0             0        0   \n",
       "\n",
       "   _update_time  _delete  _delete_time  \n",
       "0             0        0             0  \n",
       "1             0        0             0  \n",
       "2             0        0             0  "
      ]
     },
     "metadata": {},
     "output_type": "display_data"
    },
    {
     "data": {
      "text/plain": [
       "{'state': 'AVAILABLE',\n",
       " 'iteration': 0,\n",
       " 'inserted': 0,\n",
       " 'updated': 0,\n",
       " 'deleted': 0,\n",
       " 'indb': None}"
      ]
     },
     "metadata": {},
     "output_type": "display_data"
    }
   ],
   "source": [
    "file_tags= 'app-data/tags.csv'\n",
    "dbengine = 'oracle+cx_oracle'\n",
    "dbtable  = 'tags'\n",
    "dtype    = {\"userId\":np.str, \"movieId\":np.str, \"tag\":np.str, \"timestamp\":np.str}\n",
    "dtype_db = {\n",
    "    \"userId\":sa.FLOAT,\n",
    "    \"movieId\":sa.FLOAT,\n",
    "    \"tag\":sqla.types.VARCHAR(100),\n",
    "    \"timestamp\":sa.FLOAT,\n",
    "    \"_insert\":sa.FLOAT,\n",
    "    \"_insert_time\":sa.FLOAT,\n",
    "    \"_update\":sa.FLOAT,\n",
    "    \"_update_time\":sa.FLOAT,\n",
    "    \"_delete\":sa.FLOAT,\n",
    "    \"_delete_time\":sa.FLOAT,\n",
    "}\n",
    "\n",
    "tloader = SQLLoader(\n",
    "    file_tags,\n",
    "    dbengine,\n",
    "    dbhost,\n",
    "    dbuser,\n",
    "    dbpass,\n",
    "    dbport,\n",
    "    dbname,\n",
    "    dbtable,\n",
    "    drop=True,\n",
    "    dtype=dtype,\n",
    "    dtype_db=dtype_db)\n",
    "display(tloader.df.head(3), tloader.status())"
   ]
  },
  {
   "cell_type": "markdown",
   "id": "3b656d21",
   "metadata": {},
   "source": [
    "--------"
   ]
  },
  {
   "cell_type": "markdown",
   "id": "e33ac068",
   "metadata": {},
   "source": [
    "# B. SQL Loading\n",
    "### B1. Full-Load"
   ]
  },
  {
   "cell_type": "code",
   "execution_count": null,
   "id": "8b3cc838",
   "metadata": {},
   "outputs": [],
   "source": [
    "# THE UID LOAD MUST CONTAIN ONLY INSERTS, THIS WAY THE TABLE CAN BE CREATED AND\n",
    "# THE ENGINE EXECUTE OF THE SECOND LINE CAN ALTER THE TABLE TO ALLOW DELETS REPLICATION\n",
    "tloader.iud(inserts=100, updates=0 , deletes=0, max_registers=2000)\n",
    "tloader.engine.execute(f\"ALTER TABLE {dbtable} REPLICA IDENTITY FULL\");"
   ]
  },
  {
   "cell_type": "markdown",
   "id": "66d05571",
   "metadata": {},
   "source": [
    "### B2. CDC (Inserts, Updates, Deletes)"
   ]
  },
  {
   "cell_type": "code",
   "execution_count": null,
   "id": "ebc20a1f",
   "metadata": {},
   "outputs": [],
   "source": [
    "tloader.iudx(inserts=100, updates=10, deletes=1)"
   ]
  },
  {
   "cell_type": "markdown",
   "id": "3568be34",
   "metadata": {},
   "source": [
    "#### Extra\n",
    "\n",
    "Use 👇 to delete the table\n",
    "```python\n",
    "tloader.drop_table()\n",
    "````"
   ]
  }
 ],
 "metadata": {
  "kernelspec": {
   "display_name": "Python 3 (ipykernel)",
   "language": "python",
   "name": "python3"
  },
  "language_info": {
   "codemirror_mode": {
    "name": "ipython",
    "version": 3
   },
   "file_extension": ".py",
   "mimetype": "text/x-python",
   "name": "python",
   "nbconvert_exporter": "python",
   "pygments_lexer": "ipython3",
   "version": "3.11.7"
  },
  "vscode": {
   "interpreter": {
    "hash": "925bb507c97935ef11b02d4f3314b202c7e2d9e75b29c9701bbf4804424dad2a"
   }
  }
 },
 "nbformat": 4,
 "nbformat_minor": 5
}
