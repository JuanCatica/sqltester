{
 "cells": [
  {
   "cell_type": "markdown",
   "id": "6ce77e35",
   "metadata": {},
   "source": [
    "# 1. Loading Tags to Dynamo"
   ]
  },
  {
   "cell_type": "code",
   "execution_count": 1,
   "id": "c1faa3f2",
   "metadata": {},
   "outputs": [],
   "source": [
    "import boto3\n",
    "import warnings\n",
    "import numpy as np\n",
    "from Loaders import DynamoLoader\n",
    "warnings.filterwarnings(\"ignore\")"
   ]
  },
  {
   "cell_type": "markdown",
   "id": "da24a6b4",
   "metadata": {},
   "source": [
    "# A. Creating Dynamo Loader"
   ]
  },
  {
   "cell_type": "code",
   "execution_count": 3,
   "id": "787a04c3",
   "metadata": {
    "scrolled": true
   },
   "outputs": [
    {
     "name": "stdout",
     "output_type": "stream",
     "text": [
      "Creating table ...\n",
      "Created :)\n"
     ]
    },
    {
     "data": {
      "text/html": [
       "<div>\n",
       "<style scoped>\n",
       "    .dataframe tbody tr th:only-of-type {\n",
       "        vertical-align: middle;\n",
       "    }\n",
       "\n",
       "    .dataframe tbody tr th {\n",
       "        vertical-align: top;\n",
       "    }\n",
       "\n",
       "    .dataframe thead th {\n",
       "        text-align: right;\n",
       "    }\n",
       "</style>\n",
       "<table border=\"1\" class=\"dataframe\">\n",
       "  <thead>\n",
       "    <tr style=\"text-align: right;\">\n",
       "      <th></th>\n",
       "      <th>userId</th>\n",
       "      <th>movieId</th>\n",
       "      <th>tag</th>\n",
       "      <th>timestamp</th>\n",
       "      <th>pk</th>\n",
       "      <th>_insert</th>\n",
       "      <th>_insert_time</th>\n",
       "      <th>_update</th>\n",
       "      <th>_update_time</th>\n",
       "      <th>_delete</th>\n",
       "      <th>_delete_time</th>\n",
       "    </tr>\n",
       "  </thead>\n",
       "  <tbody>\n",
       "    <tr>\n",
       "      <th>0</th>\n",
       "      <td>3</td>\n",
       "      <td>260</td>\n",
       "      <td>classic</td>\n",
       "      <td>1439472355</td>\n",
       "      <td>0</td>\n",
       "      <td>0</td>\n",
       "      <td>0</td>\n",
       "      <td>0</td>\n",
       "      <td>0</td>\n",
       "      <td>0</td>\n",
       "      <td>0</td>\n",
       "    </tr>\n",
       "    <tr>\n",
       "      <th>1</th>\n",
       "      <td>3</td>\n",
       "      <td>260</td>\n",
       "      <td>sci-fi</td>\n",
       "      <td>1439472256</td>\n",
       "      <td>1</td>\n",
       "      <td>0</td>\n",
       "      <td>0</td>\n",
       "      <td>0</td>\n",
       "      <td>0</td>\n",
       "      <td>0</td>\n",
       "      <td>0</td>\n",
       "    </tr>\n",
       "    <tr>\n",
       "      <th>2</th>\n",
       "      <td>4</td>\n",
       "      <td>1732</td>\n",
       "      <td>dark comedy</td>\n",
       "      <td>1573943598</td>\n",
       "      <td>2</td>\n",
       "      <td>0</td>\n",
       "      <td>0</td>\n",
       "      <td>0</td>\n",
       "      <td>0</td>\n",
       "      <td>0</td>\n",
       "      <td>0</td>\n",
       "    </tr>\n",
       "  </tbody>\n",
       "</table>\n",
       "</div>"
      ],
      "text/plain": [
       "   userId  movieId          tag   timestamp  pk  _insert  _insert_time  \\\n",
       "0       3      260      classic  1439472355   0        0             0   \n",
       "1       3      260       sci-fi  1439472256   1        0             0   \n",
       "2       4     1732  dark comedy  1573943598   2        0             0   \n",
       "\n",
       "   _update  _update_time  _delete  _delete_time  \n",
       "0        0             0        0             0  \n",
       "1        0             0        0             0  \n",
       "2        0             0        0             0  "
      ]
     },
     "metadata": {},
     "output_type": "display_data"
    },
    {
     "data": {
      "text/plain": [
       "{'state': 'AVAILABLE',\n",
       " 'iteration': 0,\n",
       " 'inserted': 0,\n",
       " 'updated': 0,\n",
       " 'deleted': 0,\n",
       " 'indb': 0,\n",
       " 'exists': True}"
      ]
     },
     "metadata": {},
     "output_type": "display_data"
    }
   ],
   "source": [
    "file_tags= 'app-data/tags.csv'\n",
    "dbtable  = 'my-poc'\n",
    "\n",
    "tloader = DynamoLoader(file_tags, dbtable, drop=True)\n",
    "display(tloader.df.head(3), tloader.status())"
   ]
  },
  {
   "cell_type": "markdown",
   "id": "3b656d21",
   "metadata": {},
   "source": [
    "--------"
   ]
  },
  {
   "cell_type": "markdown",
   "id": "e33ac068",
   "metadata": {},
   "source": [
    "# B. SQL Loading\n",
    "### B1. Full-Load"
   ]
  },
  {
   "cell_type": "code",
   "execution_count": 4,
   "id": "8b3cc838",
   "metadata": {},
   "outputs": [
    {
     "name": "stdout",
     "output_type": "stream",
     "text": [
      "[AVAILABLE] DB:0 | I:2000, U:0, D:0 | I/s:78, U/s:0, D/s:0 | Loop:95.00%, DF:0.18%\n"
     ]
    }
   ],
   "source": [
    "tloader.iud(inserts=100, updates=0 , deletes=0, max_registers=2000)"
   ]
  },
  {
   "cell_type": "markdown",
   "id": "66d05571",
   "metadata": {},
   "source": [
    "### B2. CDC (Inserts, Updates, Deletes)"
   ]
  },
  {
   "cell_type": "code",
   "execution_count": null,
   "id": "ebc20a1f",
   "metadata": {},
   "outputs": [],
   "source": [
    "tloader.iudx(inserts=100, updates=10, deletes=1)"
   ]
  }
 ],
 "metadata": {
  "kernelspec": {
   "display_name": "Python 3 (ipykernel)",
   "language": "python",
   "name": "python3"
  },
  "language_info": {
   "codemirror_mode": {
    "name": "ipython",
    "version": 3
   },
   "file_extension": ".py",
   "mimetype": "text/x-python",
   "name": "python",
   "nbconvert_exporter": "python",
   "pygments_lexer": "ipython3",
   "version": "3.11.7"
  },
  "vscode": {
   "interpreter": {
    "hash": "925bb507c97935ef11b02d4f3314b202c7e2d9e75b29c9701bbf4804424dad2a"
   }
  }
 },
 "nbformat": 4,
 "nbformat_minor": 5
}
